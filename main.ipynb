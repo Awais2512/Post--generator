{
 "cells": [
  {
   "cell_type": "code",
   "execution_count": 1,
   "metadata": {},
   "outputs": [
    {
     "ename": "ModuleNotFoundError",
     "evalue": "No module named 'langchain_community'",
     "output_type": "error",
     "traceback": [
      "\u001b[0;31m---------------------------------------------------------------------------\u001b[0m",
      "\u001b[0;31mModuleNotFoundError\u001b[0m                       Traceback (most recent call last)",
      "Cell \u001b[0;32mIn[1], line 1\u001b[0m\n\u001b[0;32m----> 1\u001b[0m \u001b[38;5;28;01mfrom\u001b[39;00m \u001b[38;5;21;01mlangchain_community\u001b[39;00m\u001b[38;5;21;01m.\u001b[39;00m\u001b[38;5;21;01mdocument_loaders\u001b[39;00m \u001b[38;5;28;01mimport\u001b[39;00m WebBaseLoader\n\u001b[1;32m      2\u001b[0m \u001b[38;5;28;01mfrom\u001b[39;00m \u001b[38;5;21;01mlangchain_community\u001b[39;00m\u001b[38;5;21;01m.\u001b[39;00m\u001b[38;5;21;01mvectorstores\u001b[39;00m \u001b[38;5;28;01mimport\u001b[39;00m FAISS\n\u001b[1;32m      3\u001b[0m \u001b[38;5;28;01mfrom\u001b[39;00m \u001b[38;5;21;01mlangchain_openai\u001b[39;00m \u001b[38;5;28;01mimport\u001b[39;00m OpenAIEmbeddings\n",
      "\u001b[0;31mModuleNotFoundError\u001b[0m: No module named 'langchain_community'"
     ]
    }
   ],
   "source": [
    "from langchain_community.document_loaders import WebBaseLoader\n",
    "from langchain_community.vectorstores import FAISS\n",
    "from langchain_openai import OpenAIEmbeddings\n",
    "from langchain_text_splitters import RecursiveCharacterTextSplitter\n",
    "from langchain.llms import OpenAI\n",
    "from langchain.chains.combine_documents import create_stuff_documents_chain\n",
    "from langchain.chains import create_retrieval_chain\n",
    "from langchain_core.prompts import ChatPromptTemplate\n",
    "import os\n",
    "os.environ['OPENAI_API_KEY'] = os.getenv(\"OPENAI_API_KEY\")\n",
    "\n",
    "loader = WebBaseLoader(web_path=\"https://www.wattlesol.com/\")\n",
    "docs=loader.load()\n",
    "llm = OpenAI(temperature=0.7)\n",
    "text_splitters=RecursiveCharacterTextSplitter(chunk_size=1000,chunk_overlap=200).split_documents(docs)\n",
    "\n",
    "db = FAISS.from_documents(text_splitters,OpenAIEmbeddings())\n",
    "retriver= db.as_retriever()\n",
    "prompt = ChatPromptTemplate.from_template('''\n",
    "    Generate unique and creative captions for social media posts on platforms such as linked-in, instagram, facebook and tiktok for a Software development and marketing agency using the context provided below.\n",
    "    The context is derived from the content of a URL provided by a retriever.\n",
    "    Think step by step, ensuring the captions align with the tone, theme, and key details from the context.\n",
    "    <context>\n",
    "    {context}\n",
    "    </context>\n",
    "    Goal: {input}.\n",
    "''')\n",
    "\n",
    "input_text = \"Generate creative and engaging website captions for social media posts on platforms such as linked-in, instagram, facebook and tiktok for a Software development and marketing agency oprational in California usa.\"\n",
    "# Initialize LangChain\n",
    "\n",
    "document_chain = create_stuff_documents_chain(llm=llm,prompt=prompt)\n",
    "retrival_chain= create_retrieval_chain(retriver,document_chain)\n",
    "response=retrival_chain.invoke({'input':input_text})\n",
    "ans = str(response['answer'])\n"
   ]
  },
  {
   "cell_type": "code",
   "execution_count": 2,
   "metadata": {},
   "outputs": [
    {
     "ename": "NameError",
     "evalue": "name 'retrival_chain' is not defined",
     "output_type": "error",
     "traceback": [
      "\u001b[0;31m---------------------------------------------------------------------------\u001b[0m",
      "\u001b[0;31mNameError\u001b[0m                                 Traceback (most recent call last)",
      "Cell \u001b[0;32mIn[2], line 1\u001b[0m\n\u001b[0;32m----> 1\u001b[0m response\u001b[38;5;241m=\u001b[39m\u001b[43mretrival_chain\u001b[49m\u001b[38;5;241m.\u001b[39minvoke({\u001b[38;5;124m'\u001b[39m\u001b[38;5;124minput\u001b[39m\u001b[38;5;124m'\u001b[39m:input_text})\n\u001b[1;32m      2\u001b[0m ans \u001b[38;5;241m=\u001b[39m \u001b[38;5;28mstr\u001b[39m(response[\u001b[38;5;124m'\u001b[39m\u001b[38;5;124manswer\u001b[39m\u001b[38;5;124m'\u001b[39m])\n\u001b[1;32m      3\u001b[0m \u001b[38;5;66;03m# print(ans)\u001b[39;00m\n",
      "\u001b[0;31mNameError\u001b[0m: name 'retrival_chain' is not defined"
     ]
    }
   ],
   "source": [
    "response=retrival_chain.invoke({'input':input_text})\n",
    "ans = str(response['answer'])\n",
    "# print(ans)\n",
    "import re\n",
    "answers = ans.split('\\n')\n",
    "captions = []\n",
    "for i ,ans in enumerate(answers):\n",
    "    if ans:\n",
    "        try:\n",
    "            result = re.search(r'\"(.*?)\"', ans).group(1)\n",
    "            print(i,result)\n",
    "            print('-'*len(ans))\n",
    "            captions.append(result)\n",
    "        except:\n",
    "            pass"
   ]
  },
  {
   "cell_type": "code",
   "execution_count": null,
   "metadata": {},
   "outputs": [],
   "source": []
  }
 ],
 "metadata": {
  "kernelspec": {
   "display_name": "Python 3",
   "language": "python",
   "name": "python3"
  },
  "language_info": {
   "codemirror_mode": {
    "name": "ipython",
    "version": 3
   },
   "file_extension": ".py",
   "mimetype": "text/x-python",
   "name": "python",
   "nbconvert_exporter": "python",
   "pygments_lexer": "ipython3",
   "version": "3.10.11"
  }
 },
 "nbformat": 4,
 "nbformat_minor": 2
}
