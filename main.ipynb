{
 "cells": [
  {
   "cell_type": "code",
   "execution_count": 7,
   "metadata": {},
   "outputs": [],
   "source": [
    "from langchain_community.document_loaders import WebBaseLoader\n",
    "from langchain_community.vectorstores import FAISS\n",
    "from langchain_openai import OpenAIEmbeddings\n",
    "from langchain_text_splitters import RecursiveCharacterTextSplitter\n",
    "from langchain.llms import OpenAI\n",
    "from langchain.chains.combine_documents import create_stuff_documents_chain\n",
    "from langchain.chains import create_retrieval_chain\n",
    "from langchain_core.prompts import ChatPromptTemplate\n",
    "import os\n",
    "os.environ['OPENAI_API_KEY'] = os.getenv(\"OPENAI_API_KEY\")\n",
    "\n",
    "loader = WebBaseLoader(web_path=\"https://www.wattlesol.com/\")\n",
    "docs=loader.load()\n",
    "llm = OpenAI(temperature=0.7)\n",
    "text_splitters=RecursiveCharacterTextSplitter(chunk_size=1000,chunk_overlap=200).split_documents(docs)\n",
    "\n",
    "db = FAISS.from_documents(text_splitters,OpenAIEmbeddings())\n",
    "retriver= db.as_retriever()\n",
    "prompt = ChatPromptTemplate.from_template('''\n",
    "    Generate unique and creative captions for social media posts on platforms such as linked-in, instagram, facebook and tiktok for a Software development and marketing agency using the context provided below.\n",
    "    The context is derived from the content of a URL provided by a retriever.\n",
    "    Think step by step, ensuring the captions align with the tone, theme, and key details from the context.\n",
    "    <context>\n",
    "    {context}\n",
    "    </context>\n",
    "    Goal: {input}.\n",
    "''')\n",
    "\n",
    "input_text = \"Generate creative and engaging website captions for social media posts on platforms such as linked-in, instagram, facebook and tiktok for a Software development and marketing agency oprational in California usa.\"\n",
    "# Initialize LangChain\n",
    "\n",
    "document_chain = create_stuff_documents_chain(llm=llm,prompt=prompt)\n",
    "retrival_chain= create_retrieval_chain(retriver,document_chain)\n",
    "response=retrival_chain.invoke({'input':input_text})\n",
    "ans = str(response['answer'])\n"
   ]
  },
  {
   "cell_type": "code",
   "execution_count": 5,
   "metadata": {},
   "outputs": [
    {
     "name": "stdout",
     "output_type": "stream",
     "text": [
      "1 Transform your business with our innovative AI solutions and services. Let us help you achieve efficiency and success in the digital age! #WattleSol #AI #CaliforniaUSA\n",
      "----------------------------------------------------------------------------------------------------------------------------------------------------------------------------\n",
      "2 Stay ahead of the game with our fast and agile solutions. We specialize in creating rapid results for businesses in a dynamic market landscape. #Innovation #CaliforniaUSA\n",
      "-------------------------------------------------------------------------------------------------------------------------------------------------------------------------------\n",
      "3 At Wattle Sol, we pioneer solutions that scale with your ambitions. Let us drive growth and efficiency for your business with our innovative approach. #ScaleUp #CaliforniaUSA\n",
      "-----------------------------------------------------------------------------------------------------------------------------------------------------------------------------------\n",
      "4 Experience excellence in every project with Wattle Sol. Our client-focused mindset and expertise exceed expectations, empowering businesses to thrive in the digital age. #Excellence #CaliforniaUSA\n",
      "---------------------------------------------------------------------------------------------------------------------------------------------------------------------------------------------------------\n",
      "5 Looking for a reliable software partner? Look no further than Wattle Sol! Our commitment to excellence and customer satisfaction is unmatched. #TrustedPartner #CaliforniaUSA\n",
      "----------------------------------------------------------------------------------------------------------------------------------------------------------------------------------\n",
      "6 Join the next generation of businesses with our AI services and solutions. Let us help you achieve better efficiency, decision-making, and operational success. #AIforBusiness #CaliforniaUSA\n",
      "--------------------------------------------------------------------------------------------------------------------------------------------------------------------------------------------------\n"
     ]
    }
   ],
   "source": [
    "response=retrival_chain.invoke({'input':input_text})\n",
    "ans = str(response['answer'])\n",
    "# print(ans)\n",
    "import re\n",
    "answers = ans.split('\\n')\n",
    "captions = []\n",
    "for i ,ans in enumerate(answers):\n",
    "    if ans:\n",
    "        try:\n",
    "            result = re.search(r'\"(.*?)\"', ans).group(1)\n",
    "            print(i,result)\n",
    "            print('-'*len(ans))\n",
    "            captions.append(result)\n",
    "        except:\n",
    "            pass"
   ]
  },
  {
   "cell_type": "code",
   "execution_count": null,
   "metadata": {},
   "outputs": [],
   "source": []
  }
 ],
 "metadata": {
  "kernelspec": {
   "display_name": ".venv",
   "language": "python",
   "name": "python3"
  },
  "language_info": {
   "codemirror_mode": {
    "name": "ipython",
    "version": 3
   },
   "file_extension": ".py",
   "mimetype": "text/x-python",
   "name": "python",
   "nbconvert_exporter": "python",
   "pygments_lexer": "ipython3",
   "version": "3.10.0"
  }
 },
 "nbformat": 4,
 "nbformat_minor": 2
}
